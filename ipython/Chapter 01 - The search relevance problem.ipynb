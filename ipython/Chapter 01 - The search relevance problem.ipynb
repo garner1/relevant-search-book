{
 "cells": [
  {
   "cell_type": "markdown",
   "metadata": {},
   "source": [
    "# 1.6 Summary\n",
    "\n",
    "- Relevance problems are pervasive. Even established domains such as web search, e-commerce, and expert search continue to struggle to improve the relevance of search results.\n",
    "- Bringing users to relevant search results can turn into a multibillion-dollar business advantage; failing to do so can mean losing out to the competition.\n",
    "- Information retrieval is the academic field of bringing users to content that satisfies their information needs, largely as specified in search queries.\n",
    "- In practice, relevance is more than satisfying information needs as specified by searches. It also means satisfying business needs. Further, understanding a user’s information needs often depends on implicit information, such as the application’s context, purpose, marketing, and user experience.\n",
    "- Relevance can be achieved by identifying the valuable features of your content, and using those features to compute relevance signals.\n",
    "- Technologists can’t do it alone. Based on business needs, the user audience, and the content domain, the relevance engineer often doesn’t have the skills to evaluate what content is relevant for user searches.\n",
    "- Feedback is vital. From the perspective of the relevance engineer, measuring the impact of relevance changes helps avoid delivering poor search to users."
   ]
  }
 ],
 "metadata": {
  "kernelspec": {
   "display_name": "Python 3",
   "language": "python",
   "name": "python3"
  },
  "language_info": {
   "codemirror_mode": {
    "name": "ipython",
    "version": 3
   },
   "file_extension": ".py",
   "mimetype": "text/x-python",
   "name": "python",
   "nbconvert_exporter": "python",
   "pygments_lexer": "ipython3",
   "version": "3.5.2"
  }
 },
 "nbformat": 4,
 "nbformat_minor": 2
}
