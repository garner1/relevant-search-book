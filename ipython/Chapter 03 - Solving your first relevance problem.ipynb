{
 "cells": [
  {
   "cell_type": "markdown",
   "metadata": {},
   "source": [
    "# Boilerplate Setup"
   ]
  },
  {
   "cell_type": "code",
   "execution_count": 1,
   "metadata": {},
   "outputs": [],
   "source": [
    "import json\n",
    "import os\n",
    "from pprint import pprint\n",
    "import requests\n",
    "import time\n",
    "\n",
    "ELASTICSEARCH_URL = os.environ.get('ELASTICSEARCH_URL', 'http://localhost:9200')"
   ]
  },
  {
   "cell_type": "markdown",
   "metadata": {},
   "source": [
    "# 3.4 Indexing TMDB Movies"
   ]
  },
  {
   "cell_type": "code",
   "execution_count": 2,
   "metadata": {},
   "outputs": [],
   "source": [
    "def reindex(movies, analysis={}, mappings={}):\n",
    "    settings = {\n",
    "        'settings': {\n",
    "            'number_of_shards': 1,\n",
    "            'index': {\n",
    "                'analysis' : analysis,\n",
    "            },\n",
    "        },\n",
    "        'mappings': mappings,\n",
    "    }\n",
    "\n",
    "    response = requests.delete(ELASTICSEARCH_URL + '/tmdb')\n",
    "    response = requests.put(ELASTICSEARCH_URL + '/tmdb', json=settings)\n",
    "\n",
    "    bulk_movies = \"\"\n",
    "    for id, movie in movies.items(): \n",
    "        add_op = {\"index\": {\"_index\": \"tmdb\",\n",
    "                            \"_type\": \"movie\",\n",
    "                            \"_id\": movie[\"id\"]}}\n",
    "        bulk_movies += json.dumps(add_op) + \"\\n\" + json.dumps(movie) + \"\\n\"\n",
    "\n",
    "    response = requests.post(\n",
    "        ELASTICSEARCH_URL + '/_bulk?refresh=wait_for',\n",
    "        data=bulk_movies,\n",
    "        headers={'Content-Type': 'application/x-ndjson'}\n",
    "    )\n",
    "    return response"
   ]
  },
  {
   "cell_type": "code",
   "execution_count": 3,
   "metadata": {},
   "outputs": [
    {
     "data": {
      "text/plain": [
       "<Response [200]>"
      ]
     },
     "execution_count": 3,
     "metadata": {},
     "output_type": "execute_result"
    }
   ],
   "source": [
    "with open('tmdb.json') as f:\n",
    "     movies = json.load(f)\n",
    "\n",
    "reindex(movies)"
   ]
  },
  {
   "cell_type": "markdown",
   "metadata": {},
   "source": [
    "# 3.4.1 Basic Searching"
   ]
  },
  {
   "cell_type": "code",
   "execution_count": 4,
   "metadata": {},
   "outputs": [],
   "source": [
    "def search(query):\n",
    "    url = ELASTICSEARCH_URL + '/tmdb/movie/_search'\n",
    "    response = requests.get(url, json=query)\n",
    "    hits = response.json()['hits']\n",
    "    \n",
    "    print(\"Num\\tRelevance Score\\t\\tMovie Title\\t\\tOverview\")\n",
    "    for idx, hit in enumerate(hits['hits']):\n",
    "            print(\"%s\\t%08.5f\\t\\t%s\" % (idx + 1, hit['_score'], hit['_source']['title']))"
   ]
  },
  {
   "cell_type": "code",
   "execution_count": 5,
   "metadata": {},
   "outputs": [
    {
     "name": "stdout",
     "output_type": "stream",
     "text": [
      "Num\tRelevance Score\t\tMovie Title\t\tOverview\n",
      "1\t85.56930\t\tAliens\n",
      "2\t73.71077\t\tThe Basketball Diaries\n",
      "3\t71.32020\t\tCowboys & Aliens\n",
      "4\t61.13922\t\tMonsters vs Aliens\n",
      "5\t53.50182\t\tAliens vs Predator: Requiem\n",
      "6\t53.50182\t\tAliens in the Attic\n",
      "7\t45.22109\t\tFire with Fire\n",
      "8\t45.22109\t\tDances with Wolves\n",
      "9\t45.22109\t\tFriends with Benefits\n",
      "10\t45.22109\t\tFriends with Kids\n",
      "11\t39.57216\t\tFrom Paris with Love\n",
      "12\t39.57216\t\tTrouble with the Curve\n",
      "13\t39.57216\t\tTo Rome with Love\n",
      "14\t39.57216\t\tGone with the Wind\n",
      "15\t39.57216\t\tHobo with a Shotgun\n",
      "16\t39.57216\t\tInterview with the Vampire\n",
      "17\t39.57216\t\tFrom Russia With Love\n",
      "18\t39.57216\t\tSleeping with the Enemy\n",
      "19\t39.57216\t\tJust Go With It\n",
      "20\t39.57216\t\tMy Week with Marilyn\n",
      "21\t35.17781\t\tGirl with a Pearl Earring\n",
      "22\t35.17781\t\tDie Hard: With a Vengeance\n",
      "23\t35.17781\t\tFun with Dick and Jane\n",
      "24\t31.66188\t\tYou Don't Mess With the Zohan\n",
      "25\t31.66188\t\tThe Life Aquatic With Steve Zissou\n",
      "26\t31.66188\t\tThe Girl with the Dragon Tattoo\n",
      "27\t31.66188\t\tCloudy with a Chance of Meatballs\n",
      "28\t31.66188\t\tTwin Peaks: Fire Walk with Me\n",
      "29\t31.66188\t\tThe Girl Who Played with Fire\n",
      "30\t31.66188\t\tThe Man with the Iron Fists\n",
      "31\t31.66188\t\tThe Girl with the Dragon Tattoo\n",
      "32\t31.66188\t\tThe Man with the Golden Gun\n",
      "33\t28.78490\t\tThe Pirates! In an Adventure with Scientists!\n",
      "34\t28.78490\t\tCloudy with a Chance of Meatballs 2\n",
      "35\t09.30504\t\tMeet Dave\n",
      "36\t08.25742\t\tSpeed Racer\n",
      "37\t07.97538\t\tSpace Jam\n"
     ]
    }
   ],
   "source": [
    "query = {\n",
    "    'query': {\n",
    "        'multi_match': { \n",
    "            'query': 'basketball with cartoon aliens',\n",
    "            'fields': ['title^10', 'overview'],\n",
    "        },\n",
    "    },\n",
    "    'size': '37'\n",
    "}\n",
    "search(query)"
   ]
  },
  {
   "cell_type": "markdown",
   "metadata": {},
   "source": [
    "# 3.5.1 Query Validation API"
   ]
  },
  {
   "cell_type": "code",
   "execution_count": 6,
   "metadata": {},
   "outputs": [
    {
     "name": "stdout",
     "output_type": "stream",
     "text": [
      "{'_shards': {'failed': 0, 'successful': 1, 'total': 1},\n",
      " 'explanations': [{'explanation': '+((title:basketball title:with '\n",
      "                                  'title:cartoon title:aliens)^10.0 | '\n",
      "                                  '(overview:basketball overview:with '\n",
      "                                  'overview:cartoon overview:aliens)) #*:*',\n",
      "                   'index': 'tmdb',\n",
      "                   'valid': True}],\n",
      " 'valid': True}\n"
     ]
    }
   ],
   "source": [
    "query = {\n",
    "   'query': {\n",
    "        'multi_match': { \n",
    "            'query': 'basketball with cartoon aliens',\n",
    "            'fields': ['title^10', 'overview']\n",
    "        }\n",
    "    }\n",
    "}\n",
    "response = requests.get(\n",
    "    ELASTICSEARCH_URL + '/tmdb/movie/_validate/query?explain',\n",
    "    json=query,\n",
    ")\n",
    "\n",
    "pprint(response.json())"
   ]
  },
  {
   "cell_type": "markdown",
   "metadata": {},
   "source": [
    "# 3.5.3 Debugging Analysis"
   ]
  },
  {
   "cell_type": "code",
   "execution_count": 7,
   "metadata": {},
   "outputs": [
    {
     "name": "stdout",
     "output_type": "stream",
     "text": [
      "---\n",
      "tokens:\n",
      "- token: \"fire\"\n",
      "  start_offset: 0\n",
      "  end_offset: 4\n",
      "  type: \"<ALPHANUM>\"\n",
      "  position: 0\n",
      "- token: \"with\"\n",
      "  start_offset: 5\n",
      "  end_offset: 9\n",
      "  type: \"<ALPHANUM>\"\n",
      "  position: 1\n",
      "- token: \"fire\"\n",
      "  start_offset: 10\n",
      "  end_offset: 14\n",
      "  type: \"<ALPHANUM>\"\n",
      "  position: 2\n",
      "\n"
     ]
    }
   ],
   "source": [
    "response = requests.get(\n",
    "    ELASTICSEARCH_URL + '/tmdb/_analyze?format=yaml', \n",
    "    json={'text': \"Fire with Fire\", 'field': 'title'}\n",
    ")\n",
    "print(response.text)"
   ]
  },
  {
   "cell_type": "markdown",
   "metadata": {},
   "source": [
    "# 3.5.5 Solving The Matching Problem"
   ]
  },
  {
   "cell_type": "code",
   "execution_count": 8,
   "metadata": {},
   "outputs": [
    {
     "data": {
      "text/plain": [
       "<Response [200]>"
      ]
     },
     "execution_count": 8,
     "metadata": {},
     "output_type": "execute_result"
    }
   ],
   "source": [
    "mappings = {\n",
    "       'movie': {\n",
    "            'properties': {\n",
    "               'title': {\n",
    "                   'type': 'text',\n",
    "                   'analyzer': 'english'\n",
    "               },\n",
    "            'overview': {\n",
    "                   'type': 'text',\n",
    "                   'analyzer': 'english'\n",
    "               }\n",
    "            }\n",
    "       }\n",
    "}\n",
    "\n",
    "reindex(movies, mappings=mappings)"
   ]
  },
  {
   "cell_type": "code",
   "execution_count": 9,
   "metadata": {},
   "outputs": [
    {
     "name": "stdout",
     "output_type": "stream",
     "text": [
      "---\n",
      "tokens:\n",
      "- token: \"fire\"\n",
      "  start_offset: 0\n",
      "  end_offset: 4\n",
      "  type: \"<ALPHANUM>\"\n",
      "  position: 0\n",
      "- token: \"fire\"\n",
      "  start_offset: 10\n",
      "  end_offset: 14\n",
      "  type: \"<ALPHANUM>\"\n",
      "  position: 2\n",
      "\n"
     ]
    }
   ],
   "source": [
    "response = requests.get(\n",
    "    ELASTICSEARCH_URL + '/tmdb/_analyze?format=yaml', \n",
    "    json={'text': \"Fire with Fire\", 'field': 'title'}\n",
    ")\n",
    "print(response.text)"
   ]
  },
  {
   "cell_type": "code",
   "execution_count": 10,
   "metadata": {},
   "outputs": [
    {
     "name": "stdout",
     "output_type": "stream",
     "text": [
      "{'_shards': {'failed': 0, 'successful': 1, 'total': 1},\n",
      " 'explanations': [{'explanation': '+((title:basketbal title:cartoon '\n",
      "                                  'title:alien)^10.0 | (overview:basketbal '\n",
      "                                  'overview:cartoon overview:alien)) #*:*',\n",
      "                   'index': 'tmdb',\n",
      "                   'valid': True}],\n",
      " 'valid': True}\n"
     ]
    }
   ],
   "source": [
    "query = {\n",
    "   'query': {\n",
    "        'multi_match': { \n",
    "            'query': 'basketball with cartoon aliens',\n",
    "            'fields': ['title^10', 'overview']\n",
    "        }\n",
    "    }\n",
    "}\n",
    "response = requests.get(\n",
    "    ELASTICSEARCH_URL + '/tmdb/movie/_validate/query?explain',\n",
    "    json=query\n",
    ")\n",
    "pprint(response.json())"
   ]
  },
  {
   "cell_type": "code",
   "execution_count": 11,
   "metadata": {},
   "outputs": [
    {
     "name": "stdout",
     "output_type": "stream",
     "text": [
      "Num\tRelevance Score\t\tMovie Title\t\tOverview\n",
      "1\t78.76022\t\tThe Basketball Diaries\n",
      "2\t74.09074\t\tAlien³\n",
      "3\t74.09074\t\tAlien\n",
      "4\t74.09074\t\tAliens\n",
      "5\t59.67700\t\tAlien: Resurrection\n",
      "6\t59.67700\t\tAliens in the Attic\n",
      "7\t59.67700\t\tCowboys & Aliens\n",
      "8\t49.95806\t\tMonsters vs Aliens\n",
      "9\t42.96141\t\tAliens vs Predator: Requiem\n",
      "10\t42.96141\t\tAVP: Alien vs. Predator\n",
      "11\t12.88235\t\tSpace Jam\n"
     ]
    }
   ],
   "source": [
    "query = {\n",
    "    'query': {\n",
    "        'multi_match': { \n",
    "            'query': 'basketball with cartoon aliens',\n",
    "            'fields': ['title^10', 'overview'],\n",
    "        },\n",
    "    },\n",
    "    'size': '11'\n",
    "}\n",
    "search(query)"
   ]
  },
  {
   "cell_type": "markdown",
   "metadata": {},
   "source": [
    "# 3.6.1\tDecomposing Relevance Score With Lucene’s Explain"
   ]
  },
  {
   "cell_type": "code",
   "execution_count": 12,
   "metadata": {
    "scrolled": false
   },
   "outputs": [
    {
     "name": "stdout",
     "output_type": "stream",
     "text": [
      "Explain for Aliens\n",
      "74.090744, max of:\n",
      "  74.090744, sum of:\n",
      "    74.090744, weight(title:alien in 849) [PerFieldSimilarity], result of:\n",
      "      74.090744, score(doc=849,freq=1.0 = termFreq=1.0), product of:\n",
      "        10.0, boost\n",
      "        5.7722607, idf, computed as log(1 + (docCount - docFreq + 0.5) / (docFreq + 0.5)) from:\n",
      "          9.0, docFreq\n",
      "          3051.0, docCount\n",
      "        1.2835655, tfNorm, computed as (freq * (k1 + 1)) / (freq + k1 * (1 - b + b * fieldLength / avgFieldLength)) from:\n",
      "          1.0, termFreq=1.0\n",
      "          1.2, parameter k1\n",
      "          0.75, parameter b\n",
      "          2.1740413, avgFieldLength\n",
      "          1.0, fieldLength\n",
      "  3.6068602, sum of:\n",
      "    3.6068602, weight(overview:alien in 849) [PerFieldSimilarity], result of:\n",
      "      3.6068602, score(doc=849,freq=1.0 = termFreq=1.0), product of:\n",
      "        3.739638, idf, computed as log(1 + (docCount - docFreq + 0.5) / (docFreq + 0.5)) from:\n",
      "          72.0, docFreq\n",
      "          3050.0, docCount\n",
      "        0.96449447, tfNorm, computed as (freq * (k1 + 1)) / (freq + k1 * (1 - b + b * fieldLength / avgFieldLength)) from:\n",
      "          1.0, termFreq=1.0\n",
      "          1.2, parameter k1\n",
      "          0.75, parameter b\n",
      "          36.697704, avgFieldLength\n",
      "          40.0, fieldLength\n",
      "\n",
      "Explain for Space Jam\n",
      "12.882349, max of:\n",
      "  12.882349, sum of:\n",
      "    7.875975, weight(overview:basketbal in 571) [PerFieldSimilarity], result of:\n",
      "      7.875975, score(doc=571,freq=1.0 = termFreq=1.0), product of:\n",
      "        5.8831587, idf, computed as log(1 + (docCount - docFreq + 0.5) / (docFreq + 0.5)) from:\n",
      "          8.0, docFreq\n",
      "          3050.0, docCount\n",
      "        1.3387324, tfNorm, computed as (freq * (k1 + 1)) / (freq + k1 * (1 - b + b * fieldLength / avgFieldLength)) from:\n",
      "          1.0, termFreq=1.0\n",
      "          1.2, parameter k1\n",
      "          0.75, parameter b\n",
      "          36.697704, avgFieldLength\n",
      "          14.0, fieldLength\n",
      "    5.0063744, weight(overview:alien in 571) [PerFieldSimilarity], result of:\n",
      "      5.0063744, score(doc=571,freq=1.0 = termFreq=1.0), product of:\n",
      "        3.739638, idf, computed as log(1 + (docCount - docFreq + 0.5) / (docFreq + 0.5)) from:\n",
      "          72.0, docFreq\n",
      "          3050.0, docCount\n",
      "        1.3387324, tfNorm, computed as (freq * (k1 + 1)) / (freq + k1 * (1 - b + b * fieldLength / avgFieldLength)) from:\n",
      "          1.0, termFreq=1.0\n",
      "          1.2, parameter k1\n",
      "          0.75, parameter b\n",
      "          36.697704, avgFieldLength\n",
      "          14.0, fieldLength\n",
      "\n"
     ]
    }
   ],
   "source": [
    "def simpler_explain(explain_json, depth=0):\n",
    "    result = \" \" * (depth * 2) + \"%s, %s\\n\" % (explain_json['value'], explain_json['description'].replace('\\n', ''))\n",
    "    if 'details' in explain_json:\n",
    "        for detail in explain_json['details']:\n",
    "            result += simpler_explain(detail, depth=depth+1)\n",
    "    return result\n",
    "\n",
    "def search_explain(query):\n",
    "    query['explain'] = True\n",
    "    response = requests.get(ELASTICSEARCH_URL + '/tmdb/movie/_search', json=query)\n",
    "    data = response.json()\n",
    "    for i in [3, 10]:\n",
    "        print(\"Explain for %s\" % data['hits']['hits'][i]['_source']['title'])\n",
    "        print(simpler_explain(data['hits']['hits'][i]['_explanation']))\n",
    "\n",
    "search_explain(query)"
   ]
  },
  {
   "cell_type": "markdown",
   "metadata": {},
   "source": [
    "# 3.6.6 Lies, damned lies, and similarity\n",
    "\n",
    "Elasticsearch 6 defaults to BM25 and since 6.3.0 deprecated classic similarity."
   ]
  },
  {
   "cell_type": "markdown",
   "metadata": {},
   "source": [
    "# 3.6.8 Fixing Space Jam vs Alien Ranking"
   ]
  },
  {
   "cell_type": "code",
   "execution_count": 13,
   "metadata": {
    "scrolled": true
   },
   "outputs": [
    {
     "name": "stdout",
     "output_type": "stream",
     "text": [
      "Num\tRelevance Score\t\tMovie Title\t\tOverview\n",
      "1\t12.88235\t\tSpace Jam\n",
      "2\t07.53847\t\tGrown Ups\n",
      "3\t07.49968\t\tSpeed Racer\n",
      "4\t07.24409\t\tSemi-Pro\n",
      "5\t07.16264\t\tThe Flintstones\n",
      "6\t06.94339\t\tCoach Carter\n",
      "7\t06.76537\t\tWhite Men Can't Jump\n",
      "8\t05.84522\t\tMeet Dave\n",
      "9\t05.80056\t\tAliens vs Predator: Requiem\n",
      "10\t05.44030\t\tBedazzled\n"
     ]
    }
   ],
   "source": [
    "query = {\n",
    "    'query': {\n",
    "        'multi_match': { \n",
    "            'query': 'basketball with cartoon aliens',\n",
    "            'fields': ['title^0.1', 'overview'],\n",
    "        }\n",
    "    }\n",
    "}\n",
    "search(query)"
   ]
  },
  {
   "cell_type": "markdown",
   "metadata": {},
   "source": [
    "# Notes\n",
    "\n",
    "Takeaways:\n",
    "\n",
    "1. `multi_match` default behavior grabs the score of the best matched field, it's not some kind of smard weighted aggregation some people imagine it to be\n",
    "2. boosting should not be decided beforehand based on intuition of field importance; instead it should be used after experimentally checking if fields of different natures require score balancing before they are compared/aggregated\n",
    "\n",
    "Experiments:\n",
    "\n",
    "- **[1,2]**: the title field *is* more important than the overview field, but it's also usually shorter and sometimes loosely representative of the movie's content (therefore may have a higher diversity of words). Therefore it will naturally yield higher field scores per match, which have to be boosted down before implicitly compared by a `multi_match` aggregation with the overview field."
   ]
  }
 ],
 "metadata": {
  "kernelspec": {
   "display_name": "Python 3",
   "language": "python",
   "name": "python3"
  },
  "language_info": {
   "codemirror_mode": {
    "name": "ipython",
    "version": 3
   },
   "file_extension": ".py",
   "mimetype": "text/x-python",
   "name": "python",
   "nbconvert_exporter": "python",
   "pygments_lexer": "ipython3",
   "version": "3.5.2"
  }
 },
 "nbformat": 4,
 "nbformat_minor": 1
}
