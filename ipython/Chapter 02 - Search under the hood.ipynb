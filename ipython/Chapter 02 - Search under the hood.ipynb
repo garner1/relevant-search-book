{
 "cells": [
  {
   "cell_type": "markdown",
   "metadata": {},
   "source": [
    "# 2.5 Summary\n",
    "\n",
    "- Search engines allow you to index documents, enabling users to search and explore content through features such as highlights or facets.\n",
    "- The inverted index is the mechanical heart of the search engine.\n",
    "- Additional data structures and statistics support the inverted index in enabling users to match and explore content.\n",
    "- The inverted index is dumb and respects only exact byte-for-byte term matches when searched.\n",
    "- Analysis allows you to normalize tokens to common representations, to overcome the basic matching ability of the inverted index by using character filters, a tokenizer, and token filters.\n",
    "- Analysis enables you to express important features of your search as tokens.\n",
    "- Boolean search is a rather basic application of the inverted index data structure.\n",
    "- Relevance results are controlled by a ranking function and based on numerous statistics such as term frequency and document frequency.\n",
    "- You have the ultimate power to control matching through analysis (covered in chapter 4) and to control the ranking function (covered in chapters 5–7)!"
   ]
  }
 ],
 "metadata": {
  "kernelspec": {
   "display_name": "Python 3",
   "language": "python",
   "name": "python3"
  },
  "language_info": {
   "codemirror_mode": {
    "name": "ipython",
    "version": 3
   },
   "file_extension": ".py",
   "mimetype": "text/x-python",
   "name": "python",
   "nbconvert_exporter": "python",
   "pygments_lexer": "ipython3",
   "version": "3.5.2"
  }
 },
 "nbformat": 4,
 "nbformat_minor": 2
}
